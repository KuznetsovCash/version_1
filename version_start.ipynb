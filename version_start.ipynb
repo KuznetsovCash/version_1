{
 "cells": [
  {
   "cell_type": "code",
   "execution_count": 4,
   "id": "c6bd4c19",
   "metadata": {},
   "outputs": [],
   "source": [
    "import pandas as pd\n",
    "import numpy as np"
   ]
  },
  {
   "cell_type": "code",
   "execution_count": 1,
   "id": "e9565e66",
   "metadata": {
    "scrolled": true
   },
   "outputs": [
    {
     "name": "stderr",
     "output_type": "stream",
     "text": [
      "2022-12-23 19:15:08.777 INFO    numexpr.utils: Note: NumExpr detected 24 cores but \"NUMEXPR_MAX_THREADS\" not set, so enforcing safe limit of 8.\n",
      "2022-12-23 19:15:08.777 INFO    numexpr.utils: NumExpr defaulting to 8 threads.\n"
     ]
    }
   ],
   "source": [
    "import streamlit as st"
   ]
  },
  {
   "cell_type": "code",
   "execution_count": 2,
   "id": "3661adf8",
   "metadata": {},
   "outputs": [
    {
     "name": "stderr",
     "output_type": "stream",
     "text": [
      "2022-12-23 19:16:19.983 \n",
      "  \u001b[33m\u001b[1mWarning:\u001b[0m to view this Streamlit app on a browser, run it with the following\n",
      "  command:\n",
      "\n",
      "    streamlit run C:\\Users\\79109\\anaconda3\\lib\\site-packages\\ipykernel_launcher.py [ARGUMENTS]\n"
     ]
    }
   ],
   "source": [
    "# Прошу пользователя загрузить фаил\n",
    "uploaded_file = st.file_uploader(label='Фаил')"
   ]
  },
  {
   "cell_type": "code",
   "execution_count": null,
   "id": "1d9cf2b7",
   "metadata": {},
   "outputs": [],
   "source": []
  },
  {
   "cell_type": "code",
   "execution_count": null,
   "id": "801e908b",
   "metadata": {},
   "outputs": [],
   "source": [
    "# Когда он его загрузит, я сохраняю его в переменной uploaded_file\n",
    "uploaded_file = pd.read_csv(uploaded_file, sep=';').drop(columns=['<DATE>', '<TIME>'])"
   ]
  },
  {
   "cell_type": "code",
   "execution_count": 84,
   "id": "81e9af7c",
   "metadata": {},
   "outputs": [
    {
     "data": {
      "text/html": [
       "<div>\n",
       "<style scoped>\n",
       "    .dataframe tbody tr th:only-of-type {\n",
       "        vertical-align: middle;\n",
       "    }\n",
       "\n",
       "    .dataframe tbody tr th {\n",
       "        vertical-align: top;\n",
       "    }\n",
       "\n",
       "    .dataframe thead th {\n",
       "        text-align: right;\n",
       "    }\n",
       "</style>\n",
       "<table border=\"1\" class=\"dataframe\">\n",
       "  <thead>\n",
       "    <tr style=\"text-align: right;\">\n",
       "      <th></th>\n",
       "      <th>&lt;OPEN&gt;</th>\n",
       "      <th>&lt;HIGH&gt;</th>\n",
       "      <th>&lt;LOW&gt;</th>\n",
       "      <th>&lt;CLOSE&gt;</th>\n",
       "      <th>&lt;VOL&gt;</th>\n",
       "    </tr>\n",
       "  </thead>\n",
       "  <tbody>\n",
       "    <tr>\n",
       "      <th>0</th>\n",
       "      <td>13863.14</td>\n",
       "      <td>13889.0</td>\n",
       "      <td>12952.50</td>\n",
       "      <td>13480.01</td>\n",
       "      <td>5208</td>\n",
       "    </tr>\n",
       "    <tr>\n",
       "      <th>1</th>\n",
       "      <td>13480.00</td>\n",
       "      <td>15275.0</td>\n",
       "      <td>13005.01</td>\n",
       "      <td>14781.51</td>\n",
       "      <td>10444</td>\n",
       "    </tr>\n",
       "    <tr>\n",
       "      <th>2</th>\n",
       "      <td>14781.52</td>\n",
       "      <td>15400.0</td>\n",
       "      <td>14628.00</td>\n",
       "      <td>15098.14</td>\n",
       "      <td>8382</td>\n",
       "    </tr>\n",
       "    <tr>\n",
       "      <th>3</th>\n",
       "      <td>15098.23</td>\n",
       "      <td>15400.0</td>\n",
       "      <td>14230.00</td>\n",
       "      <td>15144.99</td>\n",
       "      <td>9077</td>\n",
       "    </tr>\n",
       "    <tr>\n",
       "      <th>4</th>\n",
       "      <td>15145.00</td>\n",
       "      <td>17178.0</td>\n",
       "      <td>14824.05</td>\n",
       "      <td>16960.01</td>\n",
       "      <td>9286</td>\n",
       "    </tr>\n",
       "  </tbody>\n",
       "</table>\n",
       "</div>"
      ],
      "text/plain": [
       "     <OPEN>   <HIGH>     <LOW>   <CLOSE>  <VOL>\n",
       "0  13863.14  13889.0  12952.50  13480.01   5208\n",
       "1  13480.00  15275.0  13005.01  14781.51  10444\n",
       "2  14781.52  15400.0  14628.00  15098.14   8382\n",
       "3  15098.23  15400.0  14230.00  15144.99   9077\n",
       "4  15145.00  17178.0  14824.05  16960.01   9286"
      ]
     },
     "execution_count": 84,
     "metadata": {},
     "output_type": "execute_result"
    }
   ],
   "source": [
    "data1 = pd.read_csv('btc1.csv', sep=';').drop(columns=['<DATE>', '<TIME>'])\n",
    "data2 = data1[:5]\n",
    "data2.tail()"
   ]
  },
  {
   "cell_type": "code",
   "execution_count": 85,
   "id": "4e7a086e",
   "metadata": {},
   "outputs": [
    {
     "data": {
      "text/html": [
       "<div>\n",
       "<style scoped>\n",
       "    .dataframe tbody tr th:only-of-type {\n",
       "        vertical-align: middle;\n",
       "    }\n",
       "\n",
       "    .dataframe tbody tr th {\n",
       "        vertical-align: top;\n",
       "    }\n",
       "\n",
       "    .dataframe thead th {\n",
       "        text-align: right;\n",
       "    }\n",
       "</style>\n",
       "<table border=\"1\" class=\"dataframe\">\n",
       "  <thead>\n",
       "    <tr style=\"text-align: right;\">\n",
       "      <th></th>\n",
       "      <th>&lt;CLOSE&gt;</th>\n",
       "    </tr>\n",
       "  </thead>\n",
       "  <tbody>\n",
       "    <tr>\n",
       "      <th>0</th>\n",
       "      <td>13480.01</td>\n",
       "    </tr>\n",
       "    <tr>\n",
       "      <th>1</th>\n",
       "      <td>14781.51</td>\n",
       "    </tr>\n",
       "    <tr>\n",
       "      <th>2</th>\n",
       "      <td>15098.14</td>\n",
       "    </tr>\n",
       "    <tr>\n",
       "      <th>3</th>\n",
       "      <td>15144.99</td>\n",
       "    </tr>\n",
       "    <tr>\n",
       "      <th>4</th>\n",
       "      <td>16960.01</td>\n",
       "    </tr>\n",
       "  </tbody>\n",
       "</table>\n",
       "</div>"
      ],
      "text/plain": [
       "    <CLOSE>\n",
       "0  13480.01\n",
       "1  14781.51\n",
       "2  15098.14\n",
       "3  15144.99\n",
       "4  16960.01"
      ]
     },
     "execution_count": 85,
     "metadata": {},
     "output_type": "execute_result"
    }
   ],
   "source": [
    "# Таблица с удаленными колонками для y_scaler\n",
    "data_y_scaler = data2.drop(columns=['<OPEN>', '<HIGH>', '<LOW>', '<VOL>'])\n",
    "data_y_scaler"
   ]
  },
  {
   "cell_type": "code",
   "execution_count": 86,
   "id": "6ddcf3d9",
   "metadata": {},
   "outputs": [
    {
     "name": "stdout",
     "output_type": "stream",
     "text": [
      "(5, 5)\n",
      "<class 'numpy.ndarray'>\n"
     ]
    }
   ],
   "source": [
    "x_data = data2.to_numpy()\n",
    "\n",
    "# Проверка данных\n",
    "print(x_data.shape)\n",
    "print(type(x_data))"
   ]
  },
  {
   "cell_type": "code",
   "execution_count": 87,
   "id": "e19066cd",
   "metadata": {},
   "outputs": [],
   "source": [
    "from sklearn.preprocessing import StandardScaler"
   ]
  },
  {
   "cell_type": "code",
   "execution_count": 88,
   "id": "35afecf4",
   "metadata": {},
   "outputs": [
    {
     "name": "stdout",
     "output_type": "stream",
     "text": [
      "Train data: (5, 5)\n"
     ]
    }
   ],
   "source": [
    "# Масштабирование данных\n",
    "x_scaler = StandardScaler()\n",
    "x_scaler.fit(x_data)\n",
    "x_data_train = x_scaler.transform(x_data)\n",
    "\n",
    "# Проверка формы данных\n",
    "print(f'Train data: {x_data_train.shape}')"
   ]
  },
  {
   "cell_type": "code",
   "execution_count": 89,
   "id": "fed2892a",
   "metadata": {},
   "outputs": [
    {
     "name": "stdout",
     "output_type": "stream",
     "text": [
      "Predict data: (5, 1)\n"
     ]
    }
   ],
   "source": [
    "# Масштабирование данных\n",
    "y_scaler = StandardScaler()\n",
    "y_scaler.fit(data_y_scaler)\n",
    "y_data_train = y_scaler.transform(data_y_scaler)\n",
    "\n",
    "# Проверка формы данных\n",
    "print(f'Predict data: {y_data_train.shape}')"
   ]
  },
  {
   "cell_type": "code",
   "execution_count": 90,
   "id": "f4061837",
   "metadata": {},
   "outputs": [],
   "source": [
    "from tensorflow.keras.preprocessing.sequence import TimeseriesGenerator\n"
   ]
  },
  {
   "cell_type": "code",
   "execution_count": 91,
   "id": "3b77c0e1",
   "metadata": {},
   "outputs": [
    {
     "name": "stdout",
     "output_type": "stream",
     "text": [
      "x_predict: (1, 4, 5), y: (1, 5)\n"
     ]
    },
    {
     "data": {
      "text/plain": [
       "array([[[-0.90089255, -1.47366719, -1.22163031, -1.44994204,\n",
       "         -1.85331772],\n",
       "        [-1.46633568, -0.14684978, -1.15586548, -0.27995393,\n",
       "          1.11298771],\n",
       "        [ 0.45446492, -0.02718731,  0.87680767,  0.00468175,\n",
       "         -0.05517917],\n",
       "        [ 0.92186977, -0.02718731,  0.37834254,  0.04679773,\n",
       "          0.33855312]]])"
      ]
     },
     "execution_count": 91,
     "metadata": {},
     "output_type": "execute_result"
    }
   ],
   "source": [
    "generator = TimeseriesGenerator(x_data_train,\n",
    "                                x_data_train,\n",
    "                                length=4,\n",
    "                                batch_size=1)\n",
    "\n",
    "# Формирование тестовой выборки из генератора\n",
    "x_predict, y_test = generator[0]\n",
    "\n",
    "# Проверка формы тестовой выборки\n",
    "print(f'x_predict: {x_predict.shape}, y: {y_test.shape}')\n",
    "x_predict"
   ]
  },
  {
   "cell_type": "code",
   "execution_count": 92,
   "id": "6f52422b",
   "metadata": {},
   "outputs": [
    {
     "data": {
      "text/plain": [
       "array([[0.99089356, 1.67489159, 1.12234558, 1.67841649, 0.45695606]])"
      ]
     },
     "execution_count": 92,
     "metadata": {},
     "output_type": "execute_result"
    }
   ],
   "source": [
    "y_test"
   ]
  },
  {
   "cell_type": "code",
   "execution_count": 93,
   "id": "92be0b32",
   "metadata": {},
   "outputs": [],
   "source": [
    "from tensorflow.keras.models import load_model"
   ]
  },
  {
   "cell_type": "code",
   "execution_count": 94,
   "id": "30a87098",
   "metadata": {},
   "outputs": [
    {
     "name": "stdout",
     "output_type": "stream",
     "text": [
      "Model: \"sequential\"\n",
      "_________________________________________________________________\n",
      " Layer (type)                Output Shape              Param #   \n",
      "=================================================================\n",
      " conv1d (Conv1D)             (None, 4, 1024)           6144      \n",
      "                                                                 \n",
      " dense (Dense)               (None, 4, 16)             16400     \n",
      "                                                                 \n",
      " flatten (Flatten)           (None, 64)                0         \n",
      "                                                                 \n",
      " dense_1 (Dense)             (None, 8)                 520       \n",
      "                                                                 \n",
      " dense_2 (Dense)             (None, 1)                 9         \n",
      "                                                                 \n",
      "=================================================================\n",
      "Total params: 23,073\n",
      "Trainable params: 23,073\n",
      "Non-trainable params: 0\n",
      "_________________________________________________________________\n"
     ]
    }
   ],
   "source": [
    "model=load_model('btc_model.h5')\n",
    "model.summary()"
   ]
  },
  {
   "cell_type": "code",
   "execution_count": 95,
   "id": "6fab2b09",
   "metadata": {},
   "outputs": [
    {
     "name": "stdout",
     "output_type": "stream",
     "text": [
      "1/1 [==============================] - 0s 114ms/step\n",
      "Цена биткоина завтра [[15073.242]]\n"
     ]
    }
   ],
   "source": [
    "model_predict = y_scaler.inverse_transform(model.predict(x_predict))\n",
    "\n",
    "print(f'Цена биткоина завтра {model_predict}')"
   ]
  },
  {
   "cell_type": "code",
   "execution_count": null,
   "id": "8549ad93",
   "metadata": {},
   "outputs": [],
   "source": [
    "st.title('Новая улучшенная классификации изображений в облаке Streamlit')\n",
    "img = load_image()\n",
    "result = st.button('Распознать изображение')\n",
    "if result:\n",
    "    x = preprocess_image(img)\n",
    "    preds = model.predict(x)\n",
    "    st.write('**Результаты распознавания:**')\n",
    "    print_predictions(preds)"
   ]
  }
 ],
 "metadata": {
  "kernelspec": {
   "display_name": "Python 3 (ipykernel)",
   "language": "python",
   "name": "python3"
  },
  "language_info": {
   "codemirror_mode": {
    "name": "ipython",
    "version": 3
   },
   "file_extension": ".py",
   "mimetype": "text/x-python",
   "name": "python",
   "nbconvert_exporter": "python",
   "pygments_lexer": "ipython3",
   "version": "3.9.12"
  }
 },
 "nbformat": 4,
 "nbformat_minor": 5
}
